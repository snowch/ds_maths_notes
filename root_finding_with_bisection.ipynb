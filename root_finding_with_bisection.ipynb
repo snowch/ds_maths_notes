{
 "cells": [
  {
   "cell_type": "markdown",
   "id": "2336459f-cccd-4f38-b91d-c52d91942691",
   "metadata": {},
   "source": [
    "### Root Finding Using Bisection"
   ]
  },
  {
   "cell_type": "code",
   "execution_count": 1,
   "id": "4c5dfb99-454b-47ff-833e-0eaed723b820",
   "metadata": {},
   "outputs": [
    {
     "data": {
      "text/html": [
       "<h1>Double Precision Root Finding Using Bisection</h1>"
      ],
      "text/plain": [
       "<h1>Double Precision Root Finding Using Bisection</h1>"
      ]
     },
     "metadata": {},
     "output_type": "display_data"
    },
    {
     "data": {
      "application/vnd.jupyter.widget-view+json": {
       "model_id": "84f16574420c492ea5fdb3f248468a62",
       "version_major": 2,
       "version_minor": 0
      },
      "text/plain": [
       "Interactive function <function _ at 0x72a151585240> with 4 widgets\n",
       "  f: EvalText(value='-x + cos(x)', description='f')\n",
       "  a: FloatSlider(value=0.0, description='a', max=1.0)\n",
       "  b: TransformFloatSlider(value=1.0, description='b', max=4.0)\n",
       "  eps: IntSlider(value=-3, description='eps', max=-1, min=-16)"
      ]
     },
     "metadata": {},
     "output_type": "display_data"
    }
   ],
   "source": [
    "# Original source: https://wiki.sagemath.org/interact/calculus#Root_Finding_Using_Bisection\n",
    "\n",
    "def bisect_method(f, a, b, eps):\n",
    "    \"\"\"\n",
    "    Compute the root of the function f using the bisection method.\n",
    "\n",
    "    Parameters:\n",
    "        f (function): The function to find the root of.\n",
    "        a (float): The left endpoint of the interval.\n",
    "        b (float): The right endpoint of the interval.\n",
    "        eps (float): The tolerance for convergence.\n",
    "\n",
    "    Returns:\n",
    "        tuple: A tuple containing the root and a list of intervals used during the iteration.\n",
    "    \"\"\"\n",
    "    try:\n",
    "        f = f._fast_float_(f.variables()[0])\n",
    "    except AttributeError:\n",
    "        pass\n",
    "    intervals = [(a,b)]\n",
    "    two = float(2); eps = float(eps)\n",
    "    while True:\n",
    "        c = (a+b)/two\n",
    "        fa = f(a); fb = f(b); fc = f(c)\n",
    "        if abs(fc) < eps: return c, intervals\n",
    "        if fa*fc < 0:\n",
    "            a, b = a, c\n",
    "        elif fc*fb < 0:\n",
    "            a, b = c, b\n",
    "        else:\n",
    "            raise ValueError(\"f must have a sign change in the interval (%s,%s)\"%(a,b))\n",
    "        intervals.append((a,b))\n",
    "\n",
    "pretty_print(html(\"<h1>Double Precision Root Finding Using Bisection</h1>\"))\n",
    "\n",
    "@interact\n",
    "def _(f = cos(x) - x, a = float(0),  b=slider(0, 4, step_size=0.1, default=1), eps=(-3,(-16, -1))):\n",
    "     eps = 10^eps\n",
    "     print(\"eps = %s\" % float(eps))\n",
    "     try:\n",
    "        f(x) = f\n",
    "        c, intervals = bisect_method(f=f, a=a, b=b, eps=eps)\n",
    "     except ValueError:\n",
    "         print(\"f must have opposite sign at the endpoints of the interval\")\n",
    "         show(plot(f, a, b, color='red'), xmin=a, xmax=b)\n",
    "     else:\n",
    "         print(\"root =\", c)\n",
    "         print(\"f(c) = %r\" % f(x=c))\n",
    "         print(\"iterations =\", len(intervals))\n",
    "         #print(intervals)\n",
    "         P = plot(f, a, b, color='red')\n",
    "         h = (P.ymax() - P.ymin())/ (1.5*len(intervals))\n",
    "         L = sum(line([(c,h*i), (d,h*i)]) for i, (c,d) in enumerate(intervals) )\n",
    "         L += sum(line([(c,h*i-h/4), (c,h*i+h/4)]) for i, (c,d) in enumerate(intervals) )\n",
    "         L += sum(line([(d,h*i-h/4), (d,h*i+h/4)]) for i, (c,d) in enumerate(intervals) )\n",
    "         show(P + L, xmin=a, xmax=b)"
   ]
  },
  {
   "cell_type": "code",
   "execution_count": 2,
   "id": "df0623ee-97c3-4357-baa6-d30c023b3dc5",
   "metadata": {},
   "outputs": [
    {
     "name": "stdout",
     "output_type": "stream",
     "text": [
      "root = 1.734375\n",
      "f(c) = 0.008056640625\n",
      "iterations = 8\n"
     ]
    },
    {
     "data": {
      "image/png": "[encoded data removed]",
      "text/plain": [
       "Graphics object consisting of 25 graphics primitives"
      ]
     },
     "metadata": {},
     "output_type": "display_data"
    }
   ],
   "source": [
    "f = (x^2 - 3)\n",
    "a = 0\n",
    "b = 4\n",
    "eps = 0.01\n",
    "\n",
    "try:\n",
    "    f(x) = f\n",
    "    c, intervals = bisect_method(f=f, a=a, b=b, eps=eps)\n",
    "except ValueError:\n",
    "    print(\"f must have opposite sign at the endpoints of the interval\")\n",
    "    show(plot(f, a, b, color='red'), xmin=a, xmax=b)\n",
    "else:\n",
    "    print(\"root =\", c)\n",
    "    print(\"f(c) = %r\" % f(x=c))\n",
    "    print(\"iterations =\", len(intervals))\n",
    "    #print(intervals)\n",
    "    P = plot(f, a, b, color='red')\n",
    "    h = (P.ymax() - P.ymin())/ (1.5*len(intervals))\n",
    "    L = sum(line([(c,h*i), (d,h*i)]) for i, (c,d) in enumerate(intervals) )\n",
    "    L += sum(line([(c,h*i-h/4), (c,h*i+h/4)]) for i, (c,d) in enumerate(intervals) )\n",
    "    L += sum(line([(d,h*i-h/4), (d,h*i+h/4)]) for i, (c,d) in enumerate(intervals) )\n",
    "    show(P + L, xmin=a, xmax=b)"
   ]
  },
  {
   "cell_type": "code",
   "execution_count": null,
   "id": "97071615-7b15-46cb-bd48-4f52e8d6e02f",
   "metadata": {},
   "outputs": [],
   "source": []
  }
 ],
 "metadata": {
  "kernelspec": {
   "display_name": "SageMath 10.3",
   "language": "sage",
   "name": "sagemath"
  },
  "language_info": {
   "codemirror_mode": {
    "name": "ipython",
    "version": 3
   },
   "file_extension": ".py",
   "mimetype": "text/x-python",
   "name": "python",
   "nbconvert_exporter": "python",
   "pygments_lexer": "ipython3",
   "version": "3.10.12"
  }
 },
 "nbformat": 4,
 "nbformat_minor": 5
}

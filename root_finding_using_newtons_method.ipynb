{
 "cells": [
  {
   "cell_type": "markdown",
   "id": "2ca568e5-20a6-4b1f-8ee6-2d8662c4937e",
   "metadata": {},
   "source": [
    "### Root Finding Using Newton Method"
   ]
  },
  {
   "cell_type": "code",
   "execution_count": 1,
   "id": "13f8a23f-02d8-449f-b618-d04d40b0d34d",
   "metadata": {},
   "outputs": [
    {
     "data": {
      "text/html": [
       "<h1>Double Precision Root Finding Using Newton's Method</h1>"
      ],
      "text/plain": [
       "<h1>Double Precision Root Finding Using Newton's Method</h1>"
      ]
     },
     "metadata": {},
     "output_type": "display_data"
    },
    {
     "data": {
      "application/vnd.jupyter.widget-view+json": {
       "model_id": "234f9e00811844f5ae01710b310f9c89",
       "version_major": 2,
       "version_minor": 0
      },
      "text/plain": [
       "Interactive function <function _ at 0x7b0138f149d0> with 4 widgets\n",
       "  f: EvalText(value='x^2 - 2', description='f')\n",
       "  c: FloatSlider(value=0.5, description='c', max=1.5, min=-0.5)\n",
       "  eps: IntSlider(value=-3, description='eps', max=-1, min=-16)\n",
       "  interval: FloatSlider(value=0.5, description='interval', max=1.5, min=-0.5)"
      ]
     },
     "metadata": {},
     "output_type": "display_data"
    }
   ],
   "source": [
    "# original source: https://wiki.sagemath.org/interact/calculus#Newton.27s_Method\n",
    "\n",
    "def newton_method(f, c, eps, maxiter=100):\n",
    "    x = f.variables()[0]\n",
    "    fprime = f.derivative(x)\n",
    "    try:\n",
    "        g = f._fast_float_(x)\n",
    "        gprime = fprime._fast_float_(x)\n",
    "    except AttributeError:\n",
    "        g = f; gprime = fprime\n",
    "    iterates = [c]\n",
    "    for i in range(maxiter):\n",
    "       fc = g(c)\n",
    "       if abs(fc) < eps: return c, iterates\n",
    "       c = c - fc/gprime(c)\n",
    "       iterates.append(c)\n",
    "    return c, iterates\n",
    "    \n",
    "var('x')    \n",
    "pretty_print(html(\"<h1>Double Precision Root Finding Using Newton's Method</h1>\"))\n",
    "@interact\n",
    "def _(f = x^2 - 2, c = float(0.5), eps=(-3,(-16, -1)), interval=float(0.5)):\n",
    "     eps = 10^(eps)\n",
    "     print(\"eps = %s\"%float(eps))\n",
    "     f(x) = f\n",
    "     z, iterates = newton_method(f, c, eps)\n",
    "     print(\"root = {}\".format(z))\n",
    "     print(\"f(c) = %r\" % f(x=z))\n",
    "     n = len(iterates)\n",
    "     print(\"iterations = {}\".format(n))\n",
    "     print(iterates)\n",
    "     P = plot(f, (x,z-interval, z+interval), rgbcolor='blue')\n",
    "     h = P.ymax(); j = P.ymin()\n",
    "     L = sum(point((w,(n-1-float(i))/n*h), rgbcolor=(float(i)/n,0.2,0.3), pointsize=10) + \\\n",
    "             line([(w,h),(w,j)],rgbcolor='black',thickness=0.2) for i,w in enumerate(iterates))\n",
    "     show(P + L, xmin=z-interval, xmax=z+interval)"
   ]
  },
  {
   "cell_type": "code",
   "execution_count": null,
   "id": "66267b5e-c1b1-416e-a571-aceeb1858e83",
   "metadata": {},
   "outputs": [],
   "source": []
  }
 ],
 "metadata": {
  "kernelspec": {
   "display_name": "SageMath 10.3",
   "language": "sage",
   "name": "sagemath"
  },
  "language_info": {
   "codemirror_mode": {
    "name": "ipython",
    "version": 3
   },
   "file_extension": ".py",
   "mimetype": "text/x-python",
   "name": "python",
   "nbconvert_exporter": "python",
   "pygments_lexer": "ipython3",
   "version": "3.10.12"
  }
 },
 "nbformat": 4,
 "nbformat_minor": 5
}
